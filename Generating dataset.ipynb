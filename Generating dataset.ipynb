{
 "cells": [
  {
   "cell_type": "code",
   "execution_count": 131,
   "id": "b337dba1",
   "metadata": {},
   "outputs": [],
   "source": [
    "import pandas as pd\n",
    "import shutil\n",
    "import os"
   ]
  },
  {
   "cell_type": "code",
   "execution_count": 96,
   "id": "c1e76721",
   "metadata": {},
   "outputs": [],
   "source": [
    "def convert_dataset(df):\n",
    "    '''\n",
    "    Convert dataset from LabelImg 2 YOLO format\n",
    "    '''\n",
    "    rows_list = []\n",
    "    for index, row in df.iterrows():\n",
    "        my_row = {}\n",
    "\n",
    "        my_row['image_name'] = row['image_name']\n",
    "        my_row['class'] = 0\n",
    "        my_row['x'] = (row['x1'] + row['x2']/2)/row['image_width']\n",
    "        my_row['y'] = (row['y1'] + row['y2']/2)/row['image_height']\n",
    "        my_row['w'] = (row['x2'] + row['x1']/2)/row['image_width']\n",
    "        my_row['h'] = (row['y2'] + row['y1']/2)/row['image_width']\n",
    "\n",
    "        rows_list.append(my_row)\n",
    "\n",
    "    return pd.DataFrame(rows_list)"
   ]
  },
  {
   "cell_type": "code",
   "execution_count": 129,
   "id": "f92b73fe",
   "metadata": {},
   "outputs": [],
   "source": [
    "def create_files(df, folder_src, folder_dest):\n",
    "    '''\n",
    "    Create .txt annotations and copy images\n",
    "    folder_src: Folder source images\n",
    "    folder_dest: Folder dest dataset\n",
    "    '''\n",
    "    unique_image = df['image_name'].unique()\n",
    "    \n",
    "    cnt = 0\n",
    "    for i in unique_image:\n",
    "        file_name = i.split('.')[0] + '.txt'\n",
    "        row_series = new_df.loc[new_df['image_name']==i,'class':'h']\n",
    "        \n",
    "        #writting the txt file with in the specified folder\n",
    "        with open(folder_dest + '/labels/'+file_name,'w') as f:\n",
    "            row_series.to_string(f,header=False,index=False)\n",
    "\n",
    "        #Copying the images\n",
    "        shutil.copy(folder_src + i, folder_dest + 'images/')\n",
    "    \n",
    "    return True"
   ]
  },
  {
   "cell_type": "code",
   "execution_count": 138,
   "id": "c11f2ca2",
   "metadata": {},
   "outputs": [],
   "source": [
    "def create_tree(dataset_root):\n",
    "    '''\n",
    "    Create dataset structure\n",
    "    '''\n",
    "    try:\n",
    "        os.mkdir(dataset_root)\n",
    "        os.mkdir(dataset_root + '/train')\n",
    "        os.mkdir(dataset_root + 'train/images')\n",
    "        os.mkdir(dataset_root + 'train/labels')\n",
    "\n",
    "        os.mkdir(dataset_root + '/test')\n",
    "        os.mkdir(dataset_root + 'test/images')\n",
    "        os.mkdir(dataset_root + 'test/labels')\n",
    "\n",
    "        os.mkdir(dataset_root + '/val')\n",
    "        os.mkdir(dataset_root + 'val/images')\n",
    "        os.mkdir(dataset_root + 'val/labels')\n",
    "    \n",
    "        return 'Dataset created!'\n",
    "    \n",
    "    except:\n",
    "        return 'Dataset already exists'"
   ]
  },
  {
   "cell_type": "markdown",
   "id": "23ab8334",
   "metadata": {},
   "source": [
    "The CSV columns are: image_name,x1,y1,x2,y2,class,image_width,image_height"
   ]
  },
  {
   "cell_type": "code",
   "execution_count": 21,
   "id": "3a67f0ac",
   "metadata": {},
   "outputs": [],
   "source": [
    "col_names = ['image_name', 'x1', 'y1', 'x2', 'y2', 'class', 'image_width', 'image_height']"
   ]
  },
  {
   "cell_type": "code",
   "execution_count": 22,
   "id": "86da19e8",
   "metadata": {},
   "outputs": [],
   "source": [
    "train_annot = pd.read_csv('SKU110K_fixed/annotations/annotations_train.csv', names=col_names, header=None)\n",
    "test_annot = pd.read_csv('SKU110K_fixed/annotations/annotations_test.csv', names=col_names, header=None)\n",
    "val_annot = pd.read_csv('SKU110K_fixed/annotations/annotations_val.csv', names=col_names, header=None)"
   ]
  },
  {
   "cell_type": "code",
   "execution_count": 139,
   "id": "a26fe0b8",
   "metadata": {},
   "outputs": [],
   "source": [
    "dataset_root = 'hugo_new/'\n",
    "folder_src = 'SKU110K_fixed/images/'"
   ]
  },
  {
   "cell_type": "code",
   "execution_count": 140,
   "id": "4ec3fdf7",
   "metadata": {},
   "outputs": [
    {
     "data": {
      "text/plain": [
       "'Dataset created!'"
      ]
     },
     "execution_count": 140,
     "metadata": {},
     "output_type": "execute_result"
    }
   ],
   "source": [
    "create_tree(dataset_root)"
   ]
  },
  {
   "cell_type": "markdown",
   "id": "1f5104f2",
   "metadata": {},
   "source": [
    "### Creating train"
   ]
  },
  {
   "cell_type": "code",
   "execution_count": 141,
   "id": "1ea80afc",
   "metadata": {},
   "outputs": [
    {
     "data": {
      "text/plain": [
       "True"
      ]
     },
     "execution_count": 141,
     "metadata": {},
     "output_type": "execute_result"
    }
   ],
   "source": [
    "folder_dest = dataset_root + 'train/'\n",
    "df_yolo = convert_dataset(train_annot)\n",
    "\n",
    "create_files(df_yolo, folder_src, folder_dest)"
   ]
  },
  {
   "cell_type": "markdown",
   "id": "5c10a1a1",
   "metadata": {},
   "source": [
    "### Creating test"
   ]
  },
  {
   "cell_type": "code",
   "execution_count": 143,
   "id": "d934a307",
   "metadata": {},
   "outputs": [
    {
     "data": {
      "text/plain": [
       "True"
      ]
     },
     "execution_count": 143,
     "metadata": {},
     "output_type": "execute_result"
    }
   ],
   "source": [
    "folder_dest = dataset_root + 'test/'\n",
    "df_yolo = convert_dataset(test_annot)\n",
    "\n",
    "create_files(df_yolo, folder_src, folder_dest)"
   ]
  },
  {
   "cell_type": "markdown",
   "id": "99e7c87d",
   "metadata": {},
   "source": [
    "### Creating val"
   ]
  },
  {
   "cell_type": "code",
   "execution_count": 144,
   "id": "f5bba1a2",
   "metadata": {},
   "outputs": [
    {
     "data": {
      "text/plain": [
       "True"
      ]
     },
     "execution_count": 144,
     "metadata": {},
     "output_type": "execute_result"
    }
   ],
   "source": [
    "folder_dest = dataset_root + 'val/'\n",
    "df_yolo = convert_dataset(val_annot)\n",
    "\n",
    "create_files(df_yolo, folder_src, folder_dest)"
   ]
  },
  {
   "cell_type": "markdown",
   "id": "07c19f74",
   "metadata": {},
   "source": [
    "---"
   ]
  },
  {
   "cell_type": "markdown",
   "id": "f53e2c96",
   "metadata": {},
   "source": [
    "#### Creating a small sample of the dataset"
   ]
  },
  {
   "cell_type": "code",
   "execution_count": 1,
   "id": "58fb7674",
   "metadata": {},
   "outputs": [],
   "source": [
    "from pathlib import Path\n",
    "import random"
   ]
  },
  {
   "cell_type": "code",
   "execution_count": 12,
   "id": "51a69110",
   "metadata": {},
   "outputs": [],
   "source": [
    "pathlist = Path(\"hugo_new/images\").glob('**/*.jpg')\n",
    "nof_samples = 998"
   ]
  },
  {
   "cell_type": "code",
   "execution_count": 13,
   "id": "7a001050",
   "metadata": {},
   "outputs": [],
   "source": [
    "rc = []\n",
    "for k, path in enumerate(pathlist):\n",
    "    if k < nof_samples:\n",
    "        rc.append(str(path)) # because path is object not string\n",
    "    else:\n",
    "        i = random.randint(0, k)\n",
    "        if i < nof_samples:\n",
    "            rc[i] = str(path)"
   ]
  },
  {
   "cell_type": "code",
   "execution_count": 20,
   "id": "f6eef9f6",
   "metadata": {},
   "outputs": [],
   "source": [
    "import shutil\n",
    "dest = 'small_data'"
   ]
  },
  {
   "cell_type": "code",
   "execution_count": 21,
   "id": "ed6e2859",
   "metadata": {},
   "outputs": [],
   "source": [
    "for file_name in rc:\n",
    "    shutil.copy(file_name, dest)"
   ]
  },
  {
   "cell_type": "code",
   "execution_count": null,
   "id": "5fd0153c",
   "metadata": {},
   "outputs": [],
   "source": [
    "rc"
   ]
  }
 ],
 "metadata": {
  "kernelspec": {
   "display_name": "Python 3",
   "language": "python",
   "name": "python3"
  },
  "language_info": {
   "codemirror_mode": {
    "name": "ipython",
    "version": 3
   },
   "file_extension": ".py",
   "mimetype": "text/x-python",
   "name": "python",
   "nbconvert_exporter": "python",
   "pygments_lexer": "ipython3",
   "version": "3.8.5"
  }
 },
 "nbformat": 4,
 "nbformat_minor": 5
}
